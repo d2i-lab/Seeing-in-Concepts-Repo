{
 "cells": [
  {
   "cell_type": "code",
   "execution_count": null,
   "metadata": {},
   "outputs": [],
   "source": []
  },
  {
   "cell_type": "code",
   "execution_count": 1,
   "metadata": {},
   "outputs": [
    {
     "name": "stdout",
     "output_type": "stream",
     "text": [
      "Graph saved as 'counter_comparison.png'\n"
     ]
    }
   ],
   "source": [
    "import os\n",
    "import json\n",
    "import matplotlib.pyplot as plt\n",
    "import numpy as np\n",
    "\n",
    "def read_json_files(directory):\n",
    "    data = {}\n",
    "    for filename in os.listdir(directory):\n",
    "        if filename.endswith('.json'):\n",
    "            with open(os.path.join(directory, filename), 'r') as f:\n",
    "                data[filename] = json.load(f)\n",
    "    return data\n",
    "\n",
    "def plot_data(data):\n",
    "    num_files = len(data)\n",
    "    fig, axes = plt.subplots(num_files, 1, figsize=(12, 6*num_files), squeeze=False)\n",
    "    fig.tight_layout(pad=5.0)\n",
    "\n",
    "    for idx, (filename, file_data) in enumerate(data.items()):\n",
    "        ax = axes[idx, 0]\n",
    "        segments = []\n",
    "        our_method_means = []\n",
    "        our_method_stds = []\n",
    "        pq_means = []\n",
    "        pq_stds = []\n",
    "\n",
    "        for key in file_data.keys():\n",
    "            if key.startswith('n_segments_') and key.endswith('_counters'):\n",
    "                segment = int(key.split('_')[2])\n",
    "                segments.append(segment)\n",
    "                our_method_means.append(file_data[key]['our_method']['mean'])\n",
    "                our_method_stds.append(file_data[key]['our_method']['std'])\n",
    "                pq_means.append(file_data[key]['pq']['mean'])\n",
    "                pq_stds.append(file_data[key]['pq']['std'])\n",
    "\n",
    "        x = np.arange(len(segments))\n",
    "        width = 0.35\n",
    "\n",
    "        ax.bar(x - width/2, our_method_means, width, label='Our Method', yerr=our_method_stds, capsize=5)\n",
    "        ax.bar(x + width/2, pq_means, width, label='PQ', yerr=pq_stds, capsize=5)\n",
    "\n",
    "        ax.set_xlabel('Number of Segments')\n",
    "        ax.set_ylabel('Counter Mean')\n",
    "        ax.set_title(f'Comparison of Counters - {filename}')\n",
    "        ax.set_xticks(x)\n",
    "        ax.set_xticklabels(segments)\n",
    "        ax.legend()\n",
    "\n",
    "        # Add value labels on top of each bar\n",
    "        for i, v in enumerate(our_method_means):\n",
    "            ax.text(i - width/2, v + our_method_stds[i], f'{v:.0f}', ha='center', va='bottom')\n",
    "        for i, v in enumerate(pq_means):\n",
    "            ax.text(i + width/2, v + pq_stds[i], f'{v:.0f}', ha='center', va='bottom')\n",
    "\n",
    "    plt.savefig('counter_comparison.png')\n",
    "    plt.close()\n",
    "\n",
    "# Usage\n",
    "directory = '/home/jxu680/image-concept-compression/sweep_results_train2017_fixed_maskclip_mobilesam_20241008_115054'\n",
    "data = read_json_files(directory)\n",
    "plot_data(data)\n",
    "print(\"Graph saved as 'counter_comparison.png'\")"
   ]
  }
 ],
 "metadata": {
  "kernelspec": {
   "display_name": "faiss",
   "language": "python",
   "name": "python3"
  },
  "language_info": {
   "codemirror_mode": {
    "name": "ipython",
    "version": 3
   },
   "file_extension": ".py",
   "mimetype": "text/x-python",
   "name": "python",
   "nbconvert_exporter": "python",
   "pygments_lexer": "ipython3",
   "version": "3.11.9"
  }
 },
 "nbformat": 4,
 "nbformat_minor": 2
}
