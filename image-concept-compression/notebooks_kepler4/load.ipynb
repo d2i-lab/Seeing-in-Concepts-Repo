{
 "cells": [
  {
   "cell_type": "code",
   "execution_count": 14,
   "metadata": {},
   "outputs": [
    {
     "name": "stdout",
     "output_type": "stream",
     "text": [
      "Running get embeddings call\n",
      "No fast path sir\n",
      "what\n",
      "what\n",
      "what\n",
      "what\n",
      "what\n",
      "what\n",
      "Error loading embeddings args.json\n"
     ]
    }
   ],
   "source": [
    "from io import BytesIO\n",
    "import os\n",
    "import pickle\n",
    "from collections import defaultdict\n",
    "\n",
    "import numpy as np\n",
    "\n",
    "\n",
    "def load_embeddings(fast_path_dir, seg_embeddings_dir):\n",
    "    print('Running get embeddings call')\n",
    "    if fast_path_dir and os.path.exists(fast_path_dir):\n",
    "        with open(fast_path_dir, 'rb') as f:\n",
    "            embed_dict = pickle.load(f)\n",
    "\n",
    "        print('Fast path')\n",
    "        embeddings = embed_dict['average_embeddings']\n",
    "        segment_ids_across_images = embed_dict['segment_ids']\n",
    "        return embeddings, segment_ids_across_images\n",
    "\n",
    "    print('No fast path sir')\n",
    "    average_embeddings_across_images = []\n",
    "    segment_ids_across_images = [] \n",
    "    # img_idx = []\n",
    "    imgs = sorted(os.listdir(seg_embeddings_dir))\n",
    "    img_to_vec_list = {}\n",
    "    vector_idx = 0\n",
    "    vec_to_img = [] # Maps vector index to image index\n",
    "\n",
    "    for idx, seg_emb in enumerate(imgs):\n",
    "        seg_emb_file = os.path.join(seg_embeddings_dir, seg_emb)\n",
    "\n",
    "        try:\n",
    "            with open(seg_emb_file, \"rb\") as f:\n",
    "                dictionary = pickle.load(f)\n",
    "        except:\n",
    "            print('Error loading embeddings', seg_emb)\n",
    "            continue\n",
    "    \n",
    "        dictionary[\"average_embeddings\"] = np.load(BytesIO(dictionary[\"average_embeddings\"]))['a']\n",
    "        average_embeddings = dictionary[\"average_embeddings\"]\n",
    "        segment_ids = dictionary[\"segment_ids\"]\n",
    "        if len(segment_ids) == 0:\n",
    "            print('what')\n",
    "            continue\n",
    "\n",
    "        if segment_ids[0] == 0:\n",
    "            average_embeddings = average_embeddings[1:]\n",
    "            segment_ids = segment_ids[1:]\n",
    "\n",
    "        if len(average_embeddings) == 0:\n",
    "            continue\n",
    "\n",
    "        # Have a dictionary of image names pointing to the start and end index of the embeddings\n",
    "        img_name = seg_emb.split('.pkl')[0]\n",
    "        start_idx = vector_idx\n",
    "        # end_idx = start_idx + len(average_embeddings) - 1\n",
    "        end_idx = start_idx + len(average_embeddings)\n",
    "\n",
    "        segment_id_idx = len(segment_ids_across_images)\n",
    "        img_to_vec_list[img_name] = (start_idx, end_idx, segment_id_idx)\n",
    "        for i in range(start_idx, end_idx):\n",
    "            # vec_to_img.append(idx)\n",
    "            vec_to_img.append(img_name)\n",
    "\n",
    "        average_embeddings_across_images.append(average_embeddings)\n",
    "        segment_ids_across_images.append(segment_ids)\n",
    "\n",
    "        vector_idx += len(average_embeddings)\n",
    "        # img_idx.append(idx)\n",
    "\n",
    "\n",
    "    average_embeddings_across_images = np.vstack(average_embeddings_across_images)\n",
    "    \n",
    "    return average_embeddings_across_images, segment_ids_across_images, img_to_vec_list, vec_to_img\n",
    "\n",
    "embeds, seg_ids, img_to_vec, vec_to_img =load_embeddings('my_fast.pkl', '/data/users/jie/data-slicing/COCO/embeds/train2017_fixed_clip_only')"
   ]
  },
  {
   "cell_type": "code",
   "execution_count": 15,
   "metadata": {},
   "outputs": [
    {
     "data": {
      "text/plain": [
       "(7178, 512)"
      ]
     },
     "execution_count": 15,
     "metadata": {},
     "output_type": "execute_result"
    }
   ],
   "source": [
    "embeds.shape"
   ]
  },
  {
   "cell_type": "code",
   "execution_count": 1,
   "metadata": {},
   "outputs": [],
   "source": [
    "from PIL import Image\n",
    "\n",
    "data = Image.open('../000000000474.jpg')"
   ]
  },
  {
   "cell_type": "code",
   "execution_count": 8,
   "metadata": {},
   "outputs": [
    {
     "data": {
      "text/plain": [
       "(500, 333, 3)"
      ]
     },
     "execution_count": 8,
     "metadata": {},
     "output_type": "execute_result"
    }
   ],
   "source": [
    "import numpy as np\n",
    "np.array(data.convert('RGB')).shape"
   ]
  }
 ],
 "metadata": {
  "kernelspec": {
   "display_name": "maskclip",
   "language": "python",
   "name": "python3"
  },
  "language_info": {
   "codemirror_mode": {
    "name": "ipython",
    "version": 3
   },
   "file_extension": ".py",
   "mimetype": "text/x-python",
   "name": "python",
   "nbconvert_exporter": "python",
   "pygments_lexer": "ipython3",
   "version": "3.11.9"
  }
 },
 "nbformat": 4,
 "nbformat_minor": 2
}
