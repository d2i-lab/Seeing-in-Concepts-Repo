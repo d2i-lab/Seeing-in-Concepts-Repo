{
 "cells": [
  {
   "cell_type": "code",
   "execution_count": 13,
   "metadata": {},
   "outputs": [],
   "source": [
    "import sys\n",
    "import numpy as np\n",
    "from pympler import asizeof\n",
    "\n",
    "import numpy as np\n",
    "import sys\n",
    "from pympler import asizeof\n",
    "\n",
    "class NumpyBitpackedDict:\n",
    "    def __init__(self, initial_size=1024, load_factor=0.7):\n",
    "        self.size = initial_size\n",
    "        self.used = 0\n",
    "        self.keys = np.zeros(self.size, dtype=np.uint32)\n",
    "        self.values = np.array([None] * self.size, dtype=object)\n",
    "        self.PRIME1 = self._largest_prime_up_to(self.size)\n",
    "        self.load_factor = load_factor\n",
    "\n",
    "    def _next_prime(self, n):\n",
    "        def is_prime(k):\n",
    "            if k < 2: return False\n",
    "            for i in range(2, int(k**0.5) + 1):\n",
    "                if k % i == 0: return False\n",
    "            return True\n",
    "        while not is_prime(n):\n",
    "            n += 1\n",
    "        return n\n",
    "    \n",
    "    def _largest_prime_up_to(self, n):\n",
    "        if n < 2:\n",
    "            return None\n",
    "        \n",
    "        # Optimize by only considering odd numbers (except 2)\n",
    "        is_prime = [True] * ((n // 2) + 1)\n",
    "        is_prime[0] = False  # 1 is not prime\n",
    "\n",
    "        for i in range(3, int(n**0.5) + 1, 2):\n",
    "            if is_prime[i // 2]:\n",
    "                # Mark odd multiples of i as not prime\n",
    "                start = (i * i) // 2\n",
    "                end = (n // 2) + 1\n",
    "                step = i\n",
    "                is_prime[start:end:step] = [False] * len(range(start, end, step))\n",
    "\n",
    "        # Check if the largest number is prime\n",
    "        if n % 2 == 1 and is_prime[n // 2]:\n",
    "            return n\n",
    "\n",
    "        # Find the largest odd number which is still marked as prime\n",
    "        for i in range((n-1) | 1, 1, -2):  # Start from largest odd number not exceeding n\n",
    "            if is_prime[i // 2]:\n",
    "                return i\n",
    "\n",
    "        return 2  # If no odd prime found, return 2\n",
    "\n",
    "    def __contains__(self, key):\n",
    "        packed_key = self._pack_key(*key)\n",
    "        index = self._find_slot(packed_key)\n",
    "        return self.values[index] is not None\n",
    "\n",
    "    def __setitem__(self, key, value):\n",
    "        packed_key = self._pack_key(*key)\n",
    "        index = self._find_slot(packed_key)\n",
    "        \n",
    "        if self.values[index] is None:\n",
    "            self.used += 1\n",
    "            \n",
    "        self.keys[index] = packed_key\n",
    "        self.values[index] = value\n",
    "        \n",
    "        if self.used > self.load_factor * self.size:\n",
    "            self._resize()\n",
    "\n",
    "    def __getitem__(self, key):\n",
    "        packed_key = self._pack_key(*key)\n",
    "        index = self._find_slot(packed_key)\n",
    "        \n",
    "        if self.values[index] is None:\n",
    "            raise KeyError(key)\n",
    "        \n",
    "        return self.values[index]\n",
    "\n",
    "    # TODO: Let bitsplit of img_id and concept_id be configurable\n",
    "    def _pack_key(self, img_id, concept_id):\n",
    "        if img_id < 0 or img_id >= (1 << 22):\n",
    "            raise ValueError(\"img_id must be between 0 and 2^22 - 1\")\n",
    "        if concept_id < 0 or concept_id >= (1 << 10):\n",
    "            import math\n",
    "            print(math.log2(concept_id), 'this is concept id', concept_id)\n",
    "            raise ValueError(\"concept_id must be between 0 and 2^10 - 1\")\n",
    "        return np.uint32((img_id << 10) | concept_id)\n",
    "    \n",
    "    def _hash1(self, key):\n",
    "        return key % self.size\n",
    "\n",
    "    def _hash2(self, key):\n",
    "        return self.PRIME1 - (key % self.PRIME1)\n",
    "\n",
    "    def _find_slot(self, packed_key):\n",
    "        index = self._hash1(packed_key)\n",
    "        # step = 2*self._hash2(packed_key)+1 # Always odd (coprime to size which is always power of 2)\n",
    "        step = self._hash2(packed_key)\n",
    "\n",
    "        # print(f\"Finding slot for {packed_key} with index {index} and step {step}\")\n",
    "        \n",
    "        while self.values[index] is not None and self.keys[index] != packed_key:\n",
    "            index = (index + step) % self.size\n",
    "        return index\n",
    "        \n",
    "    def _resize(self):\n",
    "        old_keys, old_values = self.keys, self.values\n",
    "        self.size = self.size * 2\n",
    "        self.used = 0\n",
    "        self.keys = np.zeros(self.size, dtype=np.uint32)\n",
    "        self.values = np.array([None] * self.size, dtype=object)\n",
    "\n",
    "        # self.PRIME1 = self.__get_largest_prime(self.size - 1)\n",
    "        # self.PRIME1 = self._next_prime(self.size // 2 - 1)\n",
    "        self.PRIME1 = self._largest_prime_up_to(self.size)\n",
    "        \n",
    "        for key, value in zip(old_keys, old_values):\n",
    "            if value is not None:\n",
    "                index = self._find_slot(key)\n",
    "                self.keys[index] = key\n",
    "                self.values[index] = value\n",
    "                self.used += 1\n",
    "\n",
    "    def memory_usage(self):\n",
    "        expected_size = (\n",
    "            self.size * (\n",
    "                np.dtype(np.uint32).itemsize +  # keys\n",
    "                np.dtype(object).itemsize       # values\n",
    "            )\n",
    "        )\n",
    "        return {\n",
    "            'shallow': sum(sys.getsizeof(arr) for arr in [self.keys, self.values]),\n",
    "            'deep': asizeof.asizeof(self.keys) + asizeof.asizeof(self.values),\n",
    "            'expected': expected_size\n",
    "        }\n"
   ]
  },
  {
   "cell_type": "code",
   "execution_count": 48,
   "metadata": {},
   "outputs": [
    {
     "name": "stdout",
     "output_type": "stream",
     "text": [
      "1021 1024\n"
     ]
    },
    {
     "name": "stderr",
     "output_type": "stream",
     "text": [
      "100%|██████████| 9500000/9500000 [01:37<00:00, 97059.38it/s] \n"
     ]
    }
   ],
   "source": [
    "import random \n",
    "from tqdm import tqdm\n",
    "from time import time\n",
    "inserted_values = []\n",
    "times = []\n",
    "\n",
    "def split_32bit_number(number):\n",
    "    # Ensure the number is 32 bits\n",
    "    number = number & 0xFFFFFFFF\n",
    "    \n",
    "    # Extract the first 22 bits\n",
    "    first_22_bits = (number >> 10) & 0x3FFFFF\n",
    "    \n",
    "    # Extract the last 10 bits\n",
    "    last_10_bits = number & 0x3FF\n",
    "    \n",
    "    return first_22_bits, last_10_bits\n",
    "\n",
    "\n",
    "d = NumpyBitpackedDict()\n",
    "for i in tqdm(range(9_500_000)):\n",
    "    # img_id = random.randint(0, 2**22 - 2)\n",
    "    # concept_id = random.randint(0, 2**10 - 2)\n",
    "    img_id, concept_id = split_32bit_number(i)\n",
    "    # print(concept_id, 'is concept id')\n",
    "    value = random.randint(0, 2**25)\n",
    "    if (img_id, concept_id) in d:\n",
    "        print('huh')\n",
    "        continue\n",
    "\n",
    "    t1 = time()\n",
    "    d[img_id, concept_id] = value\n",
    "    # if i% 25_000 == 0:\n",
    "    times.append(time() - t1)\n",
    "\n",
    "    inserted_values.append((concept_id, img_id, value))\n",
    "\n",
    "\n"
   ]
  },
  {
   "cell_type": "code",
   "execution_count": 49,
   "metadata": {},
   "outputs": [
    {
     "data": {
      "text/plain": [
       "[<matplotlib.lines.Line2D at 0x7fb7e96afa10>]"
      ]
     },
     "execution_count": 49,
     "metadata": {},
     "output_type": "execute_result"
    },
    {
     "data": {
      "image/png": "[encoded data removed]",
      "text/plain": [
       "<Figure size 640x480 with 1 Axes>"
      ]
     },
     "metadata": {},
     "output_type": "display_data"
    }
   ],
   "source": [
    "import matplotlib.pyplot as plt\n",
    "\n",
    "plt.plot(times)"
   ]
  },
  {
   "cell_type": "code",
   "execution_count": 50,
   "metadata": {},
   "outputs": [
    {
     "name": "stdout",
     "output_type": "stream",
     "text": [
      "0.0\n",
      "0\n"
     ]
    }
   ],
   "source": [
    "wrong = 0\n",
    "for idx, (concept_id, img_id, value) in enumerate(inserted_values):\n",
    "    if d[img_id, concept_id] != value:\n",
    "        wrong += 1\n",
    "\n",
    "print(wrong / len(inserted_values))\n",
    "print(wrong)\n"
   ]
  },
  {
   "cell_type": "code",
   "execution_count": 5,
   "metadata": {},
   "outputs": [
    {
     "name": "stdout",
     "output_type": "stream",
     "text": [
      "4999999\n"
     ]
    }
   ],
   "source": [
    "def largest_prime_up_to(n):\n",
    "    if n < 2:\n",
    "        return None\n",
    "    \n",
    "    # Optimize by only considering odd numbers (except 2)\n",
    "    is_prime = [True] * ((n // 2) + 1)\n",
    "    is_prime[0] = False  # 1 is not prime\n",
    "\n",
    "    for i in range(3, int(n**0.5) + 1, 2):\n",
    "        if is_prime[i // 2]:\n",
    "            # Mark odd multiples of i as not prime\n",
    "            start = (i * i) // 2\n",
    "            end = (n // 2) + 1\n",
    "            step = i\n",
    "            is_prime[start:end:step] = [False] * len(range(start, end, step))\n",
    "\n",
    "    # Check if the largest number is prime\n",
    "    if n % 2 == 1 and is_prime[n // 2]:\n",
    "        return n\n",
    "\n",
    "    # Find the largest odd number which is still marked as prime\n",
    "    for i in range((n-1) | 1, 1, -2):  # Start from largest odd number not exceeding n\n",
    "        if is_prime[i // 2]:\n",
    "            return i\n",
    "\n",
    "    return 2  # If no odd prime found, return 2\n",
    "\n",
    "# Test the function\n",
    "print(largest_prime_up_to(5_000_000))"
   ]
  }
 ],
 "metadata": {
  "kernelspec": {
   "display_name": "faiss",
   "language": "python",
   "name": "python3"
  },
  "language_info": {
   "codemirror_mode": {
    "name": "ipython",
    "version": 3
   },
   "file_extension": ".py",
   "mimetype": "text/x-python",
   "name": "python",
   "nbconvert_exporter": "python",
   "pygments_lexer": "ipython3",
   "version": "3.11.10"
  }
 },
 "nbformat": 4,
 "nbformat_minor": 2
}
